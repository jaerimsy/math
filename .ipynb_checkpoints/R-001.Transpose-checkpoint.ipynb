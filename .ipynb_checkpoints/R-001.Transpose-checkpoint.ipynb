{
 "cells": [
  {
   "cell_type": "code",
   "execution_count": 51,
   "metadata": {},
   "outputs": [],
   "source": [
    "# Library Import\n",
    "library(reshape2)\n",
    "library(dplyr)\n",
    "library(xlsx)"
   ]
  },
  {
   "cell_type": "code",
   "execution_count": 52,
   "metadata": {},
   "outputs": [
    {
     "data": {
      "text/html": [
       "'C:/Users/i070096/Downloads'"
      ],
      "text/latex": [
       "'C:/Users/i070096/Downloads'"
      ],
      "text/markdown": [
       "'C:/Users/i070096/Downloads'"
      ],
      "text/plain": [
       "[1] \"C:/Users/i070096/Downloads\""
      ]
     },
     "metadata": {},
     "output_type": "display_data"
    },
    {
     "data": {
      "text/html": [
       "'C:/Users/i070096/Downloads'"
      ],
      "text/latex": [
       "'C:/Users/i070096/Downloads'"
      ],
      "text/markdown": [
       "'C:/Users/i070096/Downloads'"
      ],
      "text/plain": [
       "[1] \"C:/Users/i070096/Downloads\""
      ]
     },
     "metadata": {},
     "output_type": "display_data"
    }
   ],
   "source": [
    "# Define directory where include CSV data\n",
    "getwd()\n",
    "setwd(\"C:/Users/i070096/Downloads/\")\n",
    "getwd()"
   ]
  },
  {
   "cell_type": "code",
   "execution_count": 53,
   "metadata": {},
   "outputs": [],
   "source": [
    "# Read csv data & chagne to dataframe\n",
    "patient=read.csv(file=\"patient.csv\", header=TRUE, sep=\",\")\n",
    "df_patient=data.frame(patient)\n",
    "patient_info=read.csv(file=\"patient_info.csv\", header=TRUE, sep=\"\\t\")\n",
    "df_patient_info=data.frame(patient_info)"
   ]
  },
  {
   "cell_type": "code",
   "execution_count": 54,
   "metadata": {},
   "outputs": [],
   "source": [
    "# Pivot df_patient_info\n",
    "df_patient_info_t = reshape(df_patient_info, timevar=\"Category1\", idvar=c(\"Person_id\"), drop=\"ID\", direction=\"wide\")"
   ]
  },
  {
   "cell_type": "code",
   "execution_count": 55,
   "metadata": {},
   "outputs": [],
   "source": [
    "# Change column name \n",
    "names(df_patient)[1] <- \"patient_Person_id\""
   ]
  },
  {
   "cell_type": "code",
   "execution_count": 56,
   "metadata": {},
   "outputs": [
    {
     "data": {
      "text/html": [
       "<table>\n",
       "<thead><tr><th scope=col>patient_Person_id</th><th scope=col>V1</th><th scope=col>V2</th><th scope=col>Category2.A</th><th scope=col>Category2.B</th><th scope=col>Category2.C</th><th scope=col>Category2.D</th><th scope=col>Category2.E</th></tr></thead>\n",
       "<tbody>\n",
       "\t<tr><td>P01</td><td>1  </td><td>2  </td><td>cc </td><td>rr </td><td>er </td><td>tr </td><td>we </td></tr>\n",
       "\t<tr><td>P02</td><td>3  </td><td>4  </td><td>er </td><td>rr </td><td>tr </td><td>we </td><td>tt </td></tr>\n",
       "</tbody>\n",
       "</table>\n"
      ],
      "text/latex": [
       "\\begin{tabular}{r|llllllll}\n",
       " patient\\_Person\\_id & V1 & V2 & Category2.A & Category2.B & Category2.C & Category2.D & Category2.E\\\\\n",
       "\\hline\n",
       "\t P01 & 1   & 2   & cc  & rr  & er  & tr  & we \\\\\n",
       "\t P02 & 3   & 4   & er  & rr  & tr  & we  & tt \\\\\n",
       "\\end{tabular}\n"
      ],
      "text/markdown": [
       "\n",
       "| patient_Person_id | V1 | V2 | Category2.A | Category2.B | Category2.C | Category2.D | Category2.E |\n",
       "|---|---|---|---|---|---|---|---|\n",
       "| P01 | 1   | 2   | cc  | rr  | er  | tr  | we  |\n",
       "| P02 | 3   | 4   | er  | rr  | tr  | we  | tt  |\n",
       "\n"
      ],
      "text/plain": [
       "  patient_Person_id V1 V2 Category2.A Category2.B Category2.C Category2.D\n",
       "1 P01               1  2  cc          rr          er          tr         \n",
       "2 P02               3  4  er          rr          tr          we         \n",
       "  Category2.E\n",
       "1 we         \n",
       "2 tt         "
      ]
     },
     "metadata": {},
     "output_type": "display_data"
    }
   ],
   "source": [
    "# Join df_patient with df_patient_info_t\n",
    "output = inner_join(df_patient,df_patient_info_t, by=c(\"patient_Person_id\" = \"Person_id\"))\n",
    "output"
   ]
  },
  {
   "cell_type": "code",
   "execution_count": 57,
   "metadata": {},
   "outputs": [],
   "source": [
    "# Export output data to Excel format\n",
    "write.xlsx(output, \"output.xlsx\")"
   ]
  },
  {
   "cell_type": "code",
   "execution_count": null,
   "metadata": {},
   "outputs": [],
   "source": []
  }
 ],
 "metadata": {
  "kernelspec": {
   "display_name": "R",
   "language": "R",
   "name": "ir"
  },
  "language_info": {
   "codemirror_mode": "r",
   "file_extension": ".r",
   "mimetype": "text/x-r-source",
   "name": "R",
   "pygments_lexer": "r",
   "version": "3.5.3"
  }
 },
 "nbformat": 4,
 "nbformat_minor": 2
}
